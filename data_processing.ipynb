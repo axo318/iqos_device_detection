{
 "cells": [
  {
   "cell_type": "code",
   "execution_count": 29,
   "metadata": {},
   "outputs": [],
   "source": [
    "import os\n",
    "from shutil import copyfile"
   ]
  },
  {
   "cell_type": "markdown",
   "metadata": {},
   "source": [
    "## Rename old files in a uniform scheme"
   ]
  },
  {
   "cell_type": "code",
   "execution_count": 30,
   "metadata": {},
   "outputs": [],
   "source": [
    "old_files_loc = 'data/all_old/'\n",
    "new_files_loc = 'data/all/'\n",
    "\n",
    "trues = 'true/'\n",
    "falses = 'false/'"
   ]
  },
  {
   "cell_type": "code",
   "execution_count": 31,
   "metadata": {},
   "outputs": [
    {
     "name": "stdout",
     "output_type": "stream",
     "text": [
      "File extensions found: {'jpeg', 'jpg', 'DS_Store', 'png', 'JPG'}\n"
     ]
    }
   ],
   "source": [
    "all_types =  set([x.split('.')[-1] for x in os.listdir(old_files_loc + trues) + os.listdir(old_files_loc + falses)])\n",
    "print(f'File extensions found: {all_types}')"
   ]
  },
  {
   "cell_type": "code",
   "execution_count": 33,
   "metadata": {},
   "outputs": [],
   "source": [
    "# Collect only file extensions that are relevant\n",
    "relevant_extensions = ['JPG','jpeg', 'jpg', 'png']\n",
    "old_true_files = [x for x in os.listdir(old_files_loc + trues) if x.split('.')[-1] in relevant_extensions]\n",
    "old_false_files = [x for x in os.listdir(old_files_loc + falses) if x.split('.')[-1] in relevant_extensions]\n",
    "\n",
    "# Rename true images to new destination folder\n",
    "for i, f in enumerate(old_true_files):\n",
    "    old_path = old_files_loc + trues + f\n",
    "    \n",
    "    new_name = 'true_img_' + str(i+1) + '.' + f.split('.')[-1]\n",
    "    new_path = new_files_loc + trues + new_name\n",
    "    \n",
    "    copyfile(old_path, new_path)\n",
    "    \n",
    "# Rename false images to new destination folder\n",
    "for i, f in enumerate(old_false_files):\n",
    "    old_path = old_files_loc + falses + f\n",
    "    \n",
    "    new_name = 'false_img_' + str(i+1) + '.' + f.split('.')[-1]\n",
    "    new_path = new_files_loc + falses + new_name\n",
    "    \n",
    "    copyfile(old_path, new_path)"
   ]
  }
 ],
 "metadata": {
  "kernelspec": {
   "display_name": "venv",
   "language": "python",
   "name": "venv"
  },
  "language_info": {
   "codemirror_mode": {
    "name": "ipython",
    "version": 3
   },
   "file_extension": ".py",
   "mimetype": "text/x-python",
   "name": "python",
   "nbconvert_exporter": "python",
   "pygments_lexer": "ipython3",
   "version": "3.7.3"
  }
 },
 "nbformat": 4,
 "nbformat_minor": 4
}
