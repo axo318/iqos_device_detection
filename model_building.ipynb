{
 "cells": [
  {
   "cell_type": "code",
   "execution_count": 2,
   "metadata": {
    "id": "TqOt6Sv7AsMi"
   },
   "outputs": [],
   "source": [
    "import os\n",
    "import numpy as np\n",
    "import tensorflow as tf\n",
    "\n",
    "import matplotlib.pyplot as plt\n",
    "from tensorflow.keras.preprocessing import image_dataset_from_directory"
   ]
  },
  {
   "cell_type": "markdown",
   "metadata": {
    "id": "0GoKGm1duzgk"
   },
   "source": [
    "### Data loading"
   ]
  },
  {
   "cell_type": "code",
   "execution_count": 29,
   "metadata": {
    "id": "ro4oYaEmxe4r"
   },
   "outputs": [
    {
     "name": "stdout",
     "output_type": "stream",
     "text": [
      "Found 1449 files belonging to 2 classes.\n"
     ]
    }
   ],
   "source": [
    "PATH = os.getcwd()\n",
    "train_dir = os.path.join(PATH, 'data', 'all')\n",
    "\n",
    "BATCH_SIZE = 10\n",
    "IMG_SIZE = (160, 160)\n",
    "\n",
    "full_dataset = image_dataset_from_directory(train_dir,\n",
    "                                             shuffle=True,\n",
    "                                             batch_size=BATCH_SIZE,\n",
    "                                             image_size=IMG_SIZE)"
   ]
  },
  {
   "cell_type": "markdown",
   "metadata": {},
   "source": [
    "### See image samples"
   ]
  },
  {
   "cell_type": "code",
   "execution_count": 69,
   "metadata": {
    "id": "K5BeQyKThC_Y"
   },
   "outputs": [],
   "source": [
    "# To see samples of the images change this to True\n",
    "SEE_SAMPLE = False\n",
    "\n",
    "if SEE_SAMPLE:\n",
    "    class_names = full_dataset.class_names\n",
    "\n",
    "    plt.figure(figsize=(10, 10))\n",
    "    for images, labels in full_dataset.take(1):\n",
    "        for i in range(9):\n",
    "            ax = plt.subplot(3, 3, i + 1)\n",
    "            plt.imshow(images[i].numpy().astype(\"uint8\"))\n",
    "            plt.title(class_names[labels[i]])\n",
    "            plt.axis(\"off\")"
   ]
  },
  {
   "cell_type": "markdown",
   "metadata": {},
   "source": [
    "### Create validation and test sets\n",
    "\n",
    "Training set:   70% <br>\n",
    "Validation set: 15% <br>\n",
    "Test set:       15%\n"
   ]
  },
  {
   "cell_type": "code",
   "execution_count": 31,
   "metadata": {},
   "outputs": [],
   "source": [
    "DATASET_SIZE = int(tf.data.experimental.cardinality(full_dataset))\n",
    "train_size = int(0.7 * DATASET_SIZE)\n",
    "val_size = int(0.15 * DATASET_SIZE)\n",
    "test_size = int(0.15 * DATASET_SIZE)\n",
    "\n",
    "train_dataset = full_dataset.take(train_size)\n",
    "test_dataset = full_dataset.skip(train_size)\n",
    "validation_dataset = test_dataset.skip(val_size)\n",
    "test_dataset = test_dataset.take(test_size)"
   ]
  },
  {
   "cell_type": "code",
   "execution_count": 32,
   "metadata": {
    "id": "Q9pFlFWgBKgH"
   },
   "outputs": [
    {
     "name": "stdout",
     "output_type": "stream",
     "text": [
      "Number of train batches: 101\n",
      "Number of validation batches: 23\n",
      "Number of test batches: 21\n"
     ]
    }
   ],
   "source": [
    "print('Number of train batches: %d' % tf.data.experimental.cardinality(train_dataset))\n",
    "print('Number of validation batches: %d' % tf.data.experimental.cardinality(validation_dataset))\n",
    "print('Number of test batches: %d' % tf.data.experimental.cardinality(test_dataset))"
   ]
  },
  {
   "cell_type": "markdown",
   "metadata": {
    "id": "MakSrdd--RKg"
   },
   "source": [
    "### Improve performance\n",
    "\n",
    "See doc: https://www.tensorflow.org/guide/data_performance"
   ]
  },
  {
   "cell_type": "code",
   "execution_count": 33,
   "metadata": {
    "id": "p3UUPdm86LNC"
   },
   "outputs": [],
   "source": [
    "PERF = tf.data.experimental.AUTOTUNE\n",
    "train_dataset = train_dataset.prefetch(buffer_size=PERF)\n",
    "validation_dataset = validation_dataset.prefetch(buffer_size=PERF)\n",
    "test_dataset = test_dataset.prefetch(buffer_size=PERF)"
   ]
  },
  {
   "cell_type": "markdown",
   "metadata": {
    "id": "MYfcVwYLiR98"
   },
   "source": [
    "### Augment pictures by shifting and rotating"
   ]
  },
  {
   "cell_type": "code",
   "execution_count": 34,
   "metadata": {
    "id": "3P99QiMGit1A"
   },
   "outputs": [],
   "source": [
    "data_augmentation = tf.keras.Sequential([\n",
    "  tf.keras.layers.experimental.preprocessing.RandomFlip('horizontal'),\n",
    "  tf.keras.layers.experimental.preprocessing.RandomRotation(0.2),\n",
    "])"
   ]
  },
  {
   "cell_type": "markdown",
   "metadata": {},
   "source": [
    "### Visualise augmentations"
   ]
  },
  {
   "cell_type": "code",
   "execution_count": null,
   "metadata": {},
   "outputs": [],
   "source": [
    "# Visualise augmentations\n",
    "# If visualise is True this will show a random example of picture augmentation\n",
    "VISUALIZE = False\n",
    "\n",
    "if VISUALIZE:\n",
    "    for image, _ in train_dataset.take(1):\n",
    "        plt.figure(figsize=(10, 10))\n",
    "        first_image = image[0]\n",
    "        for i in range(9):\n",
    "            ax = plt.subplot(3, 3, i + 1)\n",
    "            augmented_image = data_augmentation(tf.expand_dims(first_image, 0))\n",
    "            plt.imshow(augmented_image[0] / 255)\n",
    "            plt.axis('off')"
   ]
  },
  {
   "cell_type": "markdown",
   "metadata": {
    "id": "bAywKtuVn8uK"
   },
   "source": [
    "### Rescale pixel values to [-1,1] because MobileNet_v2 uses residuals\n",
    "\n",
    "Note: See publication: https://arxiv.org/abs/1801.04381"
   ]
  },
  {
   "cell_type": "code",
   "execution_count": 70,
   "metadata": {
    "id": "cO0HM9JAQUFq"
   },
   "outputs": [],
   "source": [
    "# Here we use the in-built preprocessing funciton of mobilenet_v2 which rescales the pixel range automatically\n",
    "preprocess_input = tf.keras.applications.mobilenet_v2.preprocess_input"
   ]
  },
  {
   "cell_type": "markdown",
   "metadata": {
    "id": "OkH-kazQecHB"
   },
   "source": [
    "## Load base model"
   ]
  },
  {
   "cell_type": "code",
   "execution_count": 36,
   "metadata": {
    "id": "19IQ2gqneqmS"
   },
   "outputs": [],
   "source": [
    "# Download the pretrained weights from imagenet\n",
    "IMG_SHAPE = IMG_SIZE + (3,)\n",
    "base_model = tf.keras.applications.MobileNetV2(input_shape=IMG_SHAPE,\n",
    "                                               include_top=False,\n",
    "                                               weights='imagenet')"
   ]
  },
  {
   "cell_type": "code",
   "execution_count": 37,
   "metadata": {
    "id": "Y-2LJL0EEUcx"
   },
   "outputs": [
    {
     "name": "stdout",
     "output_type": "stream",
     "text": [
      "(10, 5, 5, 1280)\n"
     ]
    }
   ],
   "source": [
    "# Convert 160x160x3 into 5x5x1280\n",
    "image_batch, label_batch = next(iter(train_dataset))\n",
    "feature_batch = base_model(image_batch)\n",
    "print(feature_batch.shape)"
   ]
  },
  {
   "cell_type": "markdown",
   "metadata": {
    "id": "CnMLieHBCwil"
   },
   "source": [
    "### Make base model untrainable"
   ]
  },
  {
   "cell_type": "code",
   "execution_count": 38,
   "metadata": {
    "id": "OTCJH4bphOeo"
   },
   "outputs": [],
   "source": [
    "base_model.trainable = False"
   ]
  },
  {
   "cell_type": "markdown",
   "metadata": {},
   "source": [
    "### Model Summary"
   ]
  },
  {
   "cell_type": "code",
   "execution_count": 39,
   "metadata": {
    "id": "KpbzSmPkDa-N"
   },
   "outputs": [],
   "source": [
    "# base_model.summary()"
   ]
  },
  {
   "cell_type": "markdown",
   "metadata": {
    "id": "wdMRM8YModbk"
   },
   "source": [
    "### Add layers"
   ]
  },
  {
   "cell_type": "code",
   "execution_count": 40,
   "metadata": {
    "id": "dLnpMF5KOALm"
   },
   "outputs": [
    {
     "name": "stdout",
     "output_type": "stream",
     "text": [
      "(10, 1280)\n"
     ]
    }
   ],
   "source": [
    "# Add average pooling layer for conversion of each datapoint to 1x1280\n",
    "global_average_layer = tf.keras.layers.GlobalAveragePooling2D()\n",
    "feature_batch_average = global_average_layer(feature_batch)\n",
    "print(feature_batch_average.shape)"
   ]
  },
  {
   "cell_type": "code",
   "execution_count": 41,
   "metadata": {
    "id": "Wv4afXKj6cVa"
   },
   "outputs": [
    {
     "name": "stdout",
     "output_type": "stream",
     "text": [
      "(10, 1)\n"
     ]
    }
   ],
   "source": [
    "# Add dense layer for binary classification\n",
    "prediction_layer = tf.keras.layers.Dense(1)\n",
    "prediction_batch = prediction_layer(feature_batch_average)\n",
    "print(prediction_batch.shape)"
   ]
  },
  {
   "cell_type": "markdown",
   "metadata": {},
   "source": [
    "## Model Pipeline"
   ]
  },
  {
   "cell_type": "code",
   "execution_count": 53,
   "metadata": {
    "id": "DgzQX6Veb2WT"
   },
   "outputs": [],
   "source": [
    "inputs = tf.keras.Input(shape=(160, 160, 3))\n",
    "x = data_augmentation(inputs)             # Augmentation of data\n",
    "x = preprocess_input(x)                   # Rescaling pixel layer (0,255 -> -1,1)\n",
    "x = base_model(x, training=False)         # Pretrained weights layers\n",
    "x = global_average_layer(x)               # Pooling layer\n",
    "x = tf.keras.layers.Dropout(0.2)(x)       # Add dropout layer to reduce overfitting\n",
    "outputs = prediction_layer(x)             # Dense layer for prediction\n",
    "model = tf.keras.Model(inputs, outputs)"
   ]
  },
  {
   "cell_type": "markdown",
   "metadata": {
    "id": "g0ylJXE_kRLi"
   },
   "source": [
    "### Compile model"
   ]
  },
  {
   "cell_type": "code",
   "execution_count": 55,
   "metadata": {
    "id": "RpR8HdyMhukJ"
   },
   "outputs": [],
   "source": [
    "base_learning_rate = 0.0001\n",
    "model.compile(optimizer=tf.keras.optimizers.Adam(lr=base_learning_rate),\n",
    "              loss=tf.keras.losses.BinaryCrossentropy(from_logits=True),\n",
    "              metrics=['accuracy'])\n",
    "\n",
    "# model.summary()\n",
    "# len(model.trainable_variables)"
   ]
  },
  {
   "cell_type": "markdown",
   "metadata": {
    "id": "RxvgOYTDSWTx"
   },
   "source": [
    "## Train Model"
   ]
  },
  {
   "cell_type": "markdown",
   "metadata": {},
   "source": [
    "### See initial results"
   ]
  },
  {
   "cell_type": "code",
   "execution_count": 56,
   "metadata": {
    "id": "Om4O3EESkab1"
   },
   "outputs": [
    {
     "name": "stdout",
     "output_type": "stream",
     "text": [
      "101/101 [==============================] - 7s 70ms/step - loss: 0.8028 - accuracy: 0.5040\n",
      "initial loss: 0.80\n",
      "initial accuracy: 0.50\n"
     ]
    }
   ],
   "source": [
    "initial_epochs = 10\n",
    "\n",
    "loss0, accuracy0 = model.evaluate(train_dataset)\n",
    "\n",
    "print(\"initial loss: {:.2f}\".format(loss0))\n",
    "print(\"initial accuracy: {:.2f}\".format(accuracy0))"
   ]
  },
  {
   "cell_type": "markdown",
   "metadata": {},
   "source": [
    "### Fit training dataset to model with #initial_epocs"
   ]
  },
  {
   "cell_type": "code",
   "execution_count": 57,
   "metadata": {
    "id": "JsaRFlZ9B6WK"
   },
   "outputs": [
    {
     "name": "stdout",
     "output_type": "stream",
     "text": [
      "Epoch 1/10\n",
      "101/101 [==============================] - 13s 124ms/step - loss: 0.7690 - accuracy: 0.5436 - val_loss: 0.6424 - val_accuracy: 0.6157\n",
      "Epoch 2/10\n",
      "101/101 [==============================] - 13s 128ms/step - loss: 0.6343 - accuracy: 0.6416 - val_loss: 0.5658 - val_accuracy: 0.7162\n",
      "Epoch 3/10\n",
      "101/101 [==============================] - 13s 132ms/step - loss: 0.5451 - accuracy: 0.7168 - val_loss: 0.4887 - val_accuracy: 0.8035\n",
      "Epoch 4/10\n",
      "101/101 [==============================] - 12s 122ms/step - loss: 0.4951 - accuracy: 0.7505 - val_loss: 0.4532 - val_accuracy: 0.8210\n",
      "Epoch 5/10\n",
      "101/101 [==============================] - 13s 126ms/step - loss: 0.4543 - accuracy: 0.7743 - val_loss: 0.4089 - val_accuracy: 0.8297\n",
      "Epoch 6/10\n",
      "101/101 [==============================] - 13s 132ms/step - loss: 0.4185 - accuracy: 0.7931 - val_loss: 0.3610 - val_accuracy: 0.8559\n",
      "Epoch 7/10\n",
      "101/101 [==============================] - 13s 133ms/step - loss: 0.3961 - accuracy: 0.7931 - val_loss: 0.3691 - val_accuracy: 0.8559\n",
      "Epoch 8/10\n",
      "101/101 [==============================] - 15s 144ms/step - loss: 0.3756 - accuracy: 0.8317 - val_loss: 0.3474 - val_accuracy: 0.8603\n",
      "Epoch 9/10\n",
      "101/101 [==============================] - 14s 137ms/step - loss: 0.3581 - accuracy: 0.8297 - val_loss: 0.3174 - val_accuracy: 0.8821\n",
      "Epoch 10/10\n",
      "101/101 [==============================] - 14s 142ms/step - loss: 0.3560 - accuracy: 0.8386 - val_loss: 0.3339 - val_accuracy: 0.8690\n"
     ]
    }
   ],
   "source": [
    "history = model.fit(train_dataset,\n",
    "                    epochs=initial_epochs,\n",
    "                    validation_data=validation_dataset)"
   ]
  },
  {
   "cell_type": "markdown",
   "metadata": {},
   "source": [
    "## Graphing results function"
   ]
  },
  {
   "cell_type": "markdown",
   "metadata": {
    "id": "Hd94CKImf8vi"
   },
   "source": [
    "### Result graphs"
   ]
  },
  {
   "cell_type": "code",
   "execution_count": 73,
   "metadata": {
    "id": "53OTCh3jnbwV"
   },
   "outputs": [
    {
     "data": {
      "image/png": "[encoded data removed]",
      "text/plain": [
       "<Figure size 576x576 with 2 Axes>"
      ]
     },
     "metadata": {
      "needs_background": "light"
     },
     "output_type": "display_data"
    }
   ],
   "source": [
    "acc = history.history['accuracy']\n",
    "val_acc = history.history['val_accuracy']\n",
    "\n",
    "loss = history.history['loss']\n",
    "val_loss = history.history['val_loss']\n",
    "\n",
    "plt.figure(figsize=(8, 8))\n",
    "plt.subplot(2, 1, 1)\n",
    "plt.plot(acc, label='Training Accuracy')\n",
    "plt.plot(val_acc, label='Validation Accuracy')\n",
    "plt.legend(loc='lower right')\n",
    "plt.ylabel('Accuracy')\n",
    "plt.ylim([min(plt.ylim()),1])\n",
    "plt.title('Training and Validation Accuracy')\n",
    "\n",
    "plt.subplot(2, 1, 2)\n",
    "plt.plot(loss, label='Training Loss')\n",
    "plt.plot(val_loss, label='Validation Loss')\n",
    "plt.legend(loc='upper right')\n",
    "plt.ylabel('Cross Entropy')\n",
    "plt.ylim([0,1.0])\n",
    "plt.title('Training and Validation Loss')\n",
    "plt.xlabel('epoch')\n",
    "plt.show()"
   ]
  },
  {
   "cell_type": "markdown",
   "metadata": {
    "id": "CPXnzUK0QonF"
   },
   "source": [
    "### Retrain some middle layers to slightly improve accuracy"
   ]
  },
  {
   "cell_type": "code",
   "execution_count": 59,
   "metadata": {
    "id": "4nzcagVitLQm"
   },
   "outputs": [],
   "source": [
    "base_model.trainable = True"
   ]
  },
  {
   "cell_type": "code",
   "execution_count": 60,
   "metadata": {
    "id": "-4HgVAacRs5v"
   },
   "outputs": [],
   "source": [
    "# There are 155 layers in the base model\n",
    "# print(\"Number of layers: \", len(base_model.layers))\n",
    "\n",
    "# Train from this layer on\n",
    "train_up_to = 100\n",
    "\n",
    "# Make all layers before untrainable\n",
    "for layer in base_model.layers[:train_up_to]:\n",
    "    layer.trainable =  False"
   ]
  },
  {
   "cell_type": "markdown",
   "metadata": {
    "id": "4Uk1dgsxT0IS"
   },
   "source": [
    "### Compile model again"
   ]
  },
  {
   "cell_type": "code",
   "execution_count": 61,
   "metadata": {
    "id": "NtUnaz0WUDva"
   },
   "outputs": [],
   "source": [
    "# Here we use a learning rate 10 times lower to avoid overfitting\n",
    "model.compile(loss=tf.keras.losses.BinaryCrossentropy(from_logits=True),\n",
    "              optimizer = tf.keras.optimizers.RMSprop(lr=base_learning_rate/10),\n",
    "              metrics=['accuracy'])\n",
    "\n",
    "# model.summary()"
   ]
  },
  {
   "cell_type": "markdown",
   "metadata": {
    "id": "4G5O4jd6TuAG"
   },
   "source": [
    "### Train model again"
   ]
  },
  {
   "cell_type": "code",
   "execution_count": 62,
   "metadata": {
    "id": "ECQLkAsFTlun"
   },
   "outputs": [
    {
     "name": "stdout",
     "output_type": "stream",
     "text": [
      "Epoch 10/20\n",
      "101/101 [==============================] - 18s 183ms/step - loss: 0.3104 - accuracy: 0.8584 - val_loss: 0.3032 - val_accuracy: 0.8865\n",
      "Epoch 11/20\n",
      "101/101 [==============================] - 19s 188ms/step - loss: 0.2577 - accuracy: 0.8950 - val_loss: 0.2424 - val_accuracy: 0.9170\n",
      "Epoch 12/20\n",
      "101/101 [==============================] - 19s 189ms/step - loss: 0.2328 - accuracy: 0.8970 - val_loss: 0.1802 - val_accuracy: 0.9389\n",
      "Epoch 13/20\n",
      "101/101 [==============================] - 20s 198ms/step - loss: 0.2004 - accuracy: 0.9218 - val_loss: 0.1899 - val_accuracy: 0.9214\n",
      "Epoch 14/20\n",
      "101/101 [==============================] - 18s 183ms/step - loss: 0.1872 - accuracy: 0.9168 - val_loss: 0.1804 - val_accuracy: 0.9258\n",
      "Epoch 15/20\n",
      "101/101 [==============================] - 19s 187ms/step - loss: 0.1872 - accuracy: 0.9158 - val_loss: 0.1782 - val_accuracy: 0.9345\n",
      "Epoch 16/20\n",
      "101/101 [==============================] - 18s 182ms/step - loss: 0.1586 - accuracy: 0.9297 - val_loss: 0.1995 - val_accuracy: 0.8952\n",
      "Epoch 17/20\n",
      "101/101 [==============================] - 19s 184ms/step - loss: 0.1421 - accuracy: 0.9406 - val_loss: 0.1394 - val_accuracy: 0.9563\n",
      "Epoch 18/20\n",
      "101/101 [==============================] - 19s 184ms/step - loss: 0.1248 - accuracy: 0.9396 - val_loss: 0.1942 - val_accuracy: 0.9345\n",
      "Epoch 19/20\n",
      "101/101 [==============================] - 19s 188ms/step - loss: 0.1119 - accuracy: 0.9495 - val_loss: 0.1954 - val_accuracy: 0.9301\n",
      "Epoch 20/20\n",
      "101/101 [==============================] - 21s 204ms/step - loss: 0.1042 - accuracy: 0.9713 - val_loss: 0.1209 - val_accuracy: 0.9563\n"
     ]
    }
   ],
   "source": [
    "new_epochs = 10\n",
    "total_epochs =  initial_epochs + new_epochs\n",
    "history_new = model.fit(train_dataset,\n",
    "                         epochs=total_epochs,\n",
    "                         initial_epoch=history.epoch[-1],\n",
    "                         validation_data=validation_dataset)"
   ]
  },
  {
   "cell_type": "code",
   "execution_count": 74,
   "metadata": {
    "id": "PpA8PlpQKygw"
   },
   "outputs": [],
   "source": [
    "acc += history_new.history['accuracy']\n",
    "val_acc += history_new.history['val_accuracy']\n",
    "\n",
    "loss += history_new.history['loss']\n",
    "val_loss += history_new.history['val_loss']"
   ]
  },
  {
   "cell_type": "code",
   "execution_count": 76,
   "metadata": {
    "id": "chW103JUItdk"
   },
   "outputs": [
    {
     "data": {
      "image/png": "[encoded data removed]",
      "text/plain": [
       "<Figure size 576x576 with 2 Axes>"
      ]
     },
     "metadata": {
      "needs_background": "light"
     },
     "output_type": "display_data"
    }
   ],
   "source": [
    "plt.figure(figsize=(8, 8))\n",
    "plt.subplot(2, 1, 1)\n",
    "plt.plot(acc, label='Training Accuracy')\n",
    "plt.plot(val_acc, label='Validation Accuracy')\n",
    "plt.ylim([0.8, 1])\n",
    "plt.plot([initial_epochs-1,initial_epochs-1],\n",
    "          plt.ylim(), label='Start Fine Tuning')\n",
    "plt.legend(loc='lower right')\n",
    "plt.title('Training and Validation Accuracy')\n",
    "\n",
    "plt.subplot(2, 1, 2)\n",
    "plt.plot(loss, label='Training Loss')\n",
    "plt.plot(val_loss, label='Validation Loss')\n",
    "plt.ylim([0, 1.0])\n",
    "plt.plot([initial_epochs-1,initial_epochs-1],\n",
    "         plt.ylim(), label='Start Fine Tuning')\n",
    "plt.legend(loc='upper right')\n",
    "plt.title('Training and Validation Loss')\n",
    "plt.xlabel('epoch')\n",
    "plt.show()"
   ]
  },
  {
   "cell_type": "markdown",
   "metadata": {
    "id": "R6cWgjgfrsn5"
   },
   "source": [
    "## Evaluation"
   ]
  },
  {
   "cell_type": "code",
   "execution_count": 63,
   "metadata": {
    "id": "2KyNhagHwfar"
   },
   "outputs": [
    {
     "name": "stdout",
     "output_type": "stream",
     "text": [
      "21/21 [==============================] - 2s 76ms/step - loss: 0.1521 - accuracy: 0.9476\n",
      "Test accuracy : 0.9476190209388733\n"
     ]
    }
   ],
   "source": [
    "loss, accuracy = model.evaluate(test_dataset)\n",
    "print('Test accuracy :', accuracy)"
   ]
  },
  {
   "cell_type": "markdown",
   "metadata": {},
   "source": [
    "# Save model"
   ]
  },
  {
   "cell_type": "code",
   "execution_count": 77,
   "metadata": {},
   "outputs": [
    {
     "name": "stdout",
     "output_type": "stream",
     "text": [
      "WARNING:tensorflow:From /Users/axo/venv/lib/python3.7/site-packages/tensorflow/python/training/tracking/tracking.py:111: Model.state_updates (from tensorflow.python.keras.engine.training) is deprecated and will be removed in a future version.\n",
      "Instructions for updating:\n",
      "This property should not be used in TensorFlow 2.0, as updates are applied automatically.\n",
      "WARNING:tensorflow:From /Users/axo/venv/lib/python3.7/site-packages/tensorflow/python/training/tracking/tracking.py:111: Layer.updates (from tensorflow.python.keras.engine.base_layer) is deprecated and will be removed in a future version.\n",
      "Instructions for updating:\n",
      "This property should not be used in TensorFlow 2.0, as updates are applied automatically.\n",
      "INFO:tensorflow:Assets written to: model/assets\n"
     ]
    }
   ],
   "source": [
    "model.save('model')"
   ]
  }
 ],
 "metadata": {
  "accelerator": "GPU",
  "colab": {
   "collapsed_sections": [],
   "name": "transfer_learning.ipynb",
   "toc_visible": true
  },
  "kernelspec": {
   "display_name": "venv",
   "language": "python",
   "name": "venv"
  },
  "language_info": {
   "codemirror_mode": {
    "name": "ipython",
    "version": 3
   },
   "file_extension": ".py",
   "mimetype": "text/x-python",
   "name": "python",
   "nbconvert_exporter": "python",
   "pygments_lexer": "ipython3",
   "version": "3.7.3"
  }
 },
 "nbformat": 4,
 "nbformat_minor": 4
}
